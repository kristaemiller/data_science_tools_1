{
 "cells": [
  {
   "cell_type": "code",
   "execution_count": 86,
   "id": "ea60a9ad",
   "metadata": {},
   "outputs": [
    {
     "name": "stdout",
     "output_type": "stream",
     "text": [
      "    A   B   C    D\n",
      "1  A1  B1  C1  1.0\n",
      "2  A1  B2  C2  2.0\n",
      "3  A3  B2  C3  3.0\n"
     ]
    }
   ],
   "source": [
    "#quiz \n",
    "\n",
    "import pandas as pd\n",
    "\n",
    "cells = {\"A\": {1: \"A1\", 2: \"A1\", 3: \"A3\"},\n",
    "         \"B\": {1: \"B1\", 2: \"B2\", 3: \"B2\"},\n",
    "         \"C\": {1: \"C1\", 2: \"C2\", 3: \"C3\"},\n",
    "         \"D\": {1: \"1\", 2: \"2\", 3: \"3\"}}\n",
    "df = pd.DataFrame(cells)\n",
    "\n",
    "\n",
    "#change column D to type float:\n",
    "df[['D']] = df[['D']].astype('float')\n",
    "print(df)\n"
   ]
  },
  {
   "cell_type": "code",
   "execution_count": 87,
   "id": "601bf9d5",
   "metadata": {},
   "outputs": [
    {
     "name": "stdout",
     "output_type": "stream",
     "text": [
      "    A   B   C     D\n",
      "1  A1  B1  C1   5.0\n",
      "2  A1  B2  C2  10.0\n",
      "3  A3  B2  C3  15.0\n"
     ]
    }
   ],
   "source": [
    "#multiply column D by 5:\n",
    "\n",
    "df['D'] = df['D'].apply(lambda x: x*5)\n",
    "print(df)"
   ]
  },
  {
   "cell_type": "code",
   "execution_count": 88,
   "id": "f401971b",
   "metadata": {},
   "outputs": [
    {
     "name": "stdout",
     "output_type": "stream",
     "text": [
      "    A   B   C     D\n",
      "1  A1  B1  C1   5.0\n",
      "2  A1  B2  C2  10.0\n"
     ]
    }
   ],
   "source": [
    "#print rows where column A == 'A1'\n",
    "print(df.loc[df['A'] == 'A1'])"
   ]
  },
  {
   "cell_type": "code",
   "execution_count": 89,
   "id": "539fb990",
   "metadata": {},
   "outputs": [
    {
     "name": "stdout",
     "output_type": "stream",
     "text": [
      "   A  B  C  D\n",
      "1  1  2  3  4\n",
      "2  5  6  7  8\n",
      "3  3  3  3  3\n"
     ]
    }
   ],
   "source": [
    "cells2 = {\"A\": {1: 1, 2: 5, 3: 3},\n",
    "         \"B\": {1: 2, 2: 6, 3: 3},\n",
    "         \"C\": {1: 3, 2: 7, 3: 3},\n",
    "         \"D\": {1: 4, 2: 8, 3: 3}}\n",
    "dfnumbers = pd.DataFrame(cells2)\n",
    "\n",
    "print(dfnumbers)"
   ]
  },
  {
   "cell_type": "code",
   "execution_count": 90,
   "id": "e21dc542",
   "metadata": {},
   "outputs": [
    {
     "data": {
      "text/html": [
       "<div>\n",
       "<style scoped>\n",
       "    .dataframe tbody tr th:only-of-type {\n",
       "        vertical-align: middle;\n",
       "    }\n",
       "\n",
       "    .dataframe tbody tr th {\n",
       "        vertical-align: top;\n",
       "    }\n",
       "\n",
       "    .dataframe thead th {\n",
       "        text-align: right;\n",
       "    }\n",
       "</style>\n",
       "<table border=\"1\" class=\"dataframe\">\n",
       "  <thead>\n",
       "    <tr style=\"text-align: right;\">\n",
       "      <th></th>\n",
       "      <th>A</th>\n",
       "      <th>B</th>\n",
       "      <th>C</th>\n",
       "      <th>D</th>\n",
       "    </tr>\n",
       "  </thead>\n",
       "  <tbody>\n",
       "    <tr>\n",
       "      <th>count</th>\n",
       "      <td>3.0</td>\n",
       "      <td>3.000000</td>\n",
       "      <td>3.000000</td>\n",
       "      <td>3.000000</td>\n",
       "    </tr>\n",
       "    <tr>\n",
       "      <th>mean</th>\n",
       "      <td>3.0</td>\n",
       "      <td>3.666667</td>\n",
       "      <td>4.333333</td>\n",
       "      <td>5.000000</td>\n",
       "    </tr>\n",
       "    <tr>\n",
       "      <th>std</th>\n",
       "      <td>2.0</td>\n",
       "      <td>2.081666</td>\n",
       "      <td>2.309401</td>\n",
       "      <td>2.645751</td>\n",
       "    </tr>\n",
       "    <tr>\n",
       "      <th>min</th>\n",
       "      <td>1.0</td>\n",
       "      <td>2.000000</td>\n",
       "      <td>3.000000</td>\n",
       "      <td>3.000000</td>\n",
       "    </tr>\n",
       "    <tr>\n",
       "      <th>25%</th>\n",
       "      <td>2.0</td>\n",
       "      <td>2.500000</td>\n",
       "      <td>3.000000</td>\n",
       "      <td>3.500000</td>\n",
       "    </tr>\n",
       "    <tr>\n",
       "      <th>50%</th>\n",
       "      <td>3.0</td>\n",
       "      <td>3.000000</td>\n",
       "      <td>3.000000</td>\n",
       "      <td>4.000000</td>\n",
       "    </tr>\n",
       "    <tr>\n",
       "      <th>75%</th>\n",
       "      <td>4.0</td>\n",
       "      <td>4.500000</td>\n",
       "      <td>5.000000</td>\n",
       "      <td>6.000000</td>\n",
       "    </tr>\n",
       "    <tr>\n",
       "      <th>max</th>\n",
       "      <td>5.0</td>\n",
       "      <td>6.000000</td>\n",
       "      <td>7.000000</td>\n",
       "      <td>8.000000</td>\n",
       "    </tr>\n",
       "  </tbody>\n",
       "</table>\n",
       "</div>"
      ],
      "text/plain": [
       "         A         B         C         D\n",
       "count  3.0  3.000000  3.000000  3.000000\n",
       "mean   3.0  3.666667  4.333333  5.000000\n",
       "std    2.0  2.081666  2.309401  2.645751\n",
       "min    1.0  2.000000  3.000000  3.000000\n",
       "25%    2.0  2.500000  3.000000  3.500000\n",
       "50%    3.0  3.000000  3.000000  4.000000\n",
       "75%    4.0  4.500000  5.000000  6.000000\n",
       "max    5.0  6.000000  7.000000  8.000000"
      ]
     },
     "execution_count": 90,
     "metadata": {},
     "output_type": "execute_result"
    }
   ],
   "source": [
    "#show the count, mean, std, min, max, and quantiles with a single command for dfnumbers:\n",
    "\n",
    "dfnumbers.describe()"
   ]
  },
  {
   "cell_type": "code",
   "execution_count": 91,
   "id": "33480f17",
   "metadata": {},
   "outputs": [
    {
     "name": "stdout",
     "output_type": "stream",
     "text": [
      "   A  B  C  D  mult\n",
      "1  1  2  3  4   5.0\n",
      "2  5  6  7  8  50.0\n",
      "3  3  3  3  3  45.0\n"
     ]
    }
   ],
   "source": [
    "#create a new column in dfnumbers called 'mult' and make it the product of df['D'] and dfnumbers['A']\n",
    "# then print dfnumbers\n",
    "\n",
    "dfnumbers['mult']= df['D'] * dfnumbers['A']\n",
    "print(dfnumbers)"
   ]
  },
  {
   "cell_type": "code",
   "execution_count": 92,
   "id": "3bd59b42",
   "metadata": {},
   "outputs": [
    {
     "name": "stdout",
     "output_type": "stream",
     "text": [
      "    A   B   C     D\n",
      "1  A1  B1  C1   5.0\n",
      "2  A1  B2  C2  10.0\n",
      "3  A3  B2  C3  15.0\n",
      "   A  B  C  D  mult\n",
      "1  1  2  3  4   5.0\n",
      "2  5  6  7  8  50.0\n",
      "3  3  3  3  3  45.0\n",
      "    A   B   C     D  mult\n",
      "1  A1  B1  C1   5.0   NaN\n",
      "2  A1  B2  C2  10.0   NaN\n",
      "3  A3  B2  C3  15.0   NaN\n",
      "1   1   2   3   4.0   5.0\n",
      "2   5   6   7   8.0  50.0\n",
      "3   3   3   3   3.0  45.0\n"
     ]
    }
   ],
   "source": [
    "#append dfnumbers to the end of df.  Df should now be 6 rows. print df.\n",
    "pd.concat([df, dfnumbers])\n",
    "print(df)\n",
    "print(dfnumbers)\n",
    "df= pd.concat([df, dfnumbers])\n",
    "print(df)"
   ]
  },
  {
   "cell_type": "code",
   "execution_count": 93,
   "id": "08bc98e8",
   "metadata": {},
   "outputs": [
    {
     "name": "stdout",
     "output_type": "stream",
     "text": [
      "    A   B   C     D  mult\n",
      "1  A1  B1  C1   5.0  99.0\n",
      "2  A1  B2  C2  10.0  99.0\n",
      "3  A3  B2  C3  15.0  99.0\n",
      "1   1   2   3   4.0   5.0\n",
      "2   5   6   7   8.0  50.0\n",
      "3   3   3   3   3.0  45.0\n"
     ]
    }
   ],
   "source": [
    "#Fill the NaN values in df with 99\n",
    "df=df.fillna(value=99)\n",
    "print(df)"
   ]
  },
  {
   "cell_type": "code",
   "execution_count": 94,
   "id": "87cb55e7",
   "metadata": {},
   "outputs": [
    {
     "name": "stdout",
     "output_type": "stream",
     "text": [
      "     A   C     D  mult\n",
      "B                     \n",
      "B1  A1  C1   5.0  99.0\n",
      "B2  A1  C2  10.0  99.0\n",
      "B2  A3  C3  15.0  99.0\n",
      "2    1   3   4.0   5.0\n",
      "6    5   7   8.0  50.0\n",
      "3    3   3   3.0  45.0\n"
     ]
    }
   ],
   "source": [
    "#in dataframe df, set column 'B' to be the index and drop column B\n",
    "df= df.set_index(df['B'])\n",
    "df= df.drop(['B'], axis=1)\n",
    "print(df)"
   ]
  },
  {
   "cell_type": "code",
   "execution_count": 95,
   "id": "0b604eec",
   "metadata": {},
   "outputs": [
    {
     "name": "stdout",
     "output_type": "stream",
     "text": [
      "   first second  third  fourth\n",
      "B                             \n",
      "B1    A1     C1    5.0    99.0\n",
      "B2    A1     C2   10.0    99.0\n",
      "B2    A3     C3   15.0    99.0\n",
      "2      1      3    4.0     5.0\n",
      "6      5      7    8.0    50.0\n",
      "3      3      3    3.0    45.0\n"
     ]
    }
   ],
   "source": [
    "#change the names of the columns of df to 'first','second','third','fourth'\n",
    "\n",
    "df.columns= ['first', 'second', 'third', 'fourth']\n",
    "print(df)"
   ]
  },
  {
   "cell_type": "code",
   "execution_count": 96,
   "id": "6554f9d8",
   "metadata": {},
   "outputs": [
    {
     "data": {
      "text/html": [
       "<div>\n",
       "<style scoped>\n",
       "    .dataframe tbody tr th:only-of-type {\n",
       "        vertical-align: middle;\n",
       "    }\n",
       "\n",
       "    .dataframe tbody tr th {\n",
       "        vertical-align: top;\n",
       "    }\n",
       "\n",
       "    .dataframe thead th {\n",
       "        text-align: right;\n",
       "    }\n",
       "</style>\n",
       "<table border=\"1\" class=\"dataframe\">\n",
       "  <thead>\n",
       "    <tr style=\"text-align: right;\">\n",
       "      <th>second</th>\n",
       "      <th>3</th>\n",
       "      <th>7</th>\n",
       "      <th>C1</th>\n",
       "      <th>C2</th>\n",
       "      <th>C3</th>\n",
       "    </tr>\n",
       "    <tr>\n",
       "      <th>first</th>\n",
       "      <th></th>\n",
       "      <th></th>\n",
       "      <th></th>\n",
       "      <th></th>\n",
       "      <th></th>\n",
       "    </tr>\n",
       "  </thead>\n",
       "  <tbody>\n",
       "    <tr>\n",
       "      <th>1</th>\n",
       "      <td>5.0</td>\n",
       "      <td>NaN</td>\n",
       "      <td>NaN</td>\n",
       "      <td>NaN</td>\n",
       "      <td>NaN</td>\n",
       "    </tr>\n",
       "    <tr>\n",
       "      <th>3</th>\n",
       "      <td>45.0</td>\n",
       "      <td>NaN</td>\n",
       "      <td>NaN</td>\n",
       "      <td>NaN</td>\n",
       "      <td>NaN</td>\n",
       "    </tr>\n",
       "    <tr>\n",
       "      <th>5</th>\n",
       "      <td>NaN</td>\n",
       "      <td>50.0</td>\n",
       "      <td>NaN</td>\n",
       "      <td>NaN</td>\n",
       "      <td>NaN</td>\n",
       "    </tr>\n",
       "    <tr>\n",
       "      <th>A1</th>\n",
       "      <td>NaN</td>\n",
       "      <td>NaN</td>\n",
       "      <td>99.0</td>\n",
       "      <td>99.0</td>\n",
       "      <td>NaN</td>\n",
       "    </tr>\n",
       "    <tr>\n",
       "      <th>A3</th>\n",
       "      <td>NaN</td>\n",
       "      <td>NaN</td>\n",
       "      <td>NaN</td>\n",
       "      <td>NaN</td>\n",
       "      <td>99.0</td>\n",
       "    </tr>\n",
       "  </tbody>\n",
       "</table>\n",
       "</div>"
      ],
      "text/plain": [
       "second     3     7    C1    C2    C3\n",
       "first                               \n",
       "1        5.0   NaN   NaN   NaN   NaN\n",
       "3       45.0   NaN   NaN   NaN   NaN\n",
       "5        NaN  50.0   NaN   NaN   NaN\n",
       "A1       NaN   NaN  99.0  99.0   NaN\n",
       "A3       NaN   NaN   NaN   NaN  99.0"
      ]
     },
     "execution_count": 96,
     "metadata": {},
     "output_type": "execute_result"
    }
   ],
   "source": [
    "# using the pivot command, pivot dataframe df with index being the first column, \n",
    "#the columns being the second column, and the values being the fourth column.  \n",
    "#There will be NaN's\n",
    "\n",
    "df.pivot(index= 'first', columns= 'second', values= 'fourth')\n"
   ]
  },
  {
   "cell_type": "code",
   "execution_count": null,
   "id": "35a292b0",
   "metadata": {},
   "outputs": [],
   "source": []
  }
 ],
 "metadata": {
  "kernelspec": {
   "display_name": "Python 3 (ipykernel)",
   "language": "python",
   "name": "python3"
  },
  "language_info": {
   "codemirror_mode": {
    "name": "ipython",
    "version": 3
   },
   "file_extension": ".py",
   "mimetype": "text/x-python",
   "name": "python",
   "nbconvert_exporter": "python",
   "pygments_lexer": "ipython3",
   "version": "3.8.2"
  }
 },
 "nbformat": 4,
 "nbformat_minor": 5
}
