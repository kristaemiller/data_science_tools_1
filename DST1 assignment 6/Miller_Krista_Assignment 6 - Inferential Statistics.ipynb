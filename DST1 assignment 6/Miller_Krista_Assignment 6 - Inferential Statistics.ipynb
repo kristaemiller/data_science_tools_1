{
 "cells": [
  {
   "cell_type": "markdown",
   "metadata": {
    "id": "D6EDWciIeQGJ"
   },
   "source": [
    "# Assignment 6 - Inferential Statistics\n",
    "## Data Science Tools I\n",
    "### Professor: Don Dalton\n",
    "\n",
    "---\n",
    "\n",
    "### Student: Krista Miller"
   ]
  },
  {
   "cell_type": "code",
   "execution_count": 1,
   "metadata": {
    "id": "7e8yGcGjgj1P"
   },
   "outputs": [],
   "source": [
    "import numpy as np\n",
    "import pandas as pd\n",
    "import matplotlib.pyplot as plt\n",
    "import seaborn as sns"
   ]
  },
  {
   "cell_type": "markdown",
   "metadata": {
    "id": "SCrNyO0ukBl2"
   },
   "source": [
    "These questions will refer to a dataset on 801 Pokémon, taken from [this Kaggle link](https://www.kaggle.com/rounakbanik/pokemon). If you're not familiar with Pokémon, don't worry. You don't need any outside knowledge to do this assignment. If you are a Pokémon veteran, then you may know that there are actually more Pokémon than what are in this dataset, so this dataset is not complete. (You might say they have not caught them all.) Nonetheless, we will assume this dataset represents the entire population in question.\n",
    "\n",
    "Normally we do not have access to the entire population being researched. This example is therefore unrealistic, even excluding the fact that we're talking about fictional monsters from a video game / anime series. Nonetheless, this demonstrates the ideas discussed in class and is hopefully fun for you."
   ]
  },
  {
   "cell_type": "markdown",
   "metadata": {
    "id": "HElDGzuHed6d"
   },
   "source": [
    "# Question 1 - Exploratory Analysis"
   ]
  },
  {
   "cell_type": "markdown",
   "metadata": {
    "id": "9wUd2lKIALMe"
   },
   "source": [
    "## Part (a)\n",
    "### 2 points\n",
    "\n",
    "Download the `pokemon.csv` file from the Canvas assignment page and read it into a Pandas data frame. There are many columns that we can ignore; just keep the columns `'name'`, `'base_total'`, `'type1'`, `'type2'`, `'weight_kg'`, and `'generation'`. Print the head of your filtered data frame to confirm that you only have these columns. Also print the shape of the data frame to confirm that the dataset contains 801 rows."
   ]
  },
  {
   "cell_type": "code",
   "execution_count": 3,
   "metadata": {
    "id": "Uf-6Vv8teKs5"
   },
   "outputs": [
    {
     "data": {
      "text/html": [
       "<div>\n",
       "<style scoped>\n",
       "    .dataframe tbody tr th:only-of-type {\n",
       "        vertical-align: middle;\n",
       "    }\n",
       "\n",
       "    .dataframe tbody tr th {\n",
       "        vertical-align: top;\n",
       "    }\n",
       "\n",
       "    .dataframe thead th {\n",
       "        text-align: right;\n",
       "    }\n",
       "</style>\n",
       "<table border=\"1\" class=\"dataframe\">\n",
       "  <thead>\n",
       "    <tr style=\"text-align: right;\">\n",
       "      <th></th>\n",
       "      <th>name</th>\n",
       "      <th>base_total</th>\n",
       "      <th>type1</th>\n",
       "      <th>type2</th>\n",
       "      <th>weight_kg</th>\n",
       "      <th>generation</th>\n",
       "    </tr>\n",
       "  </thead>\n",
       "  <tbody>\n",
       "    <tr>\n",
       "      <th>0</th>\n",
       "      <td>Bulbasaur</td>\n",
       "      <td>318</td>\n",
       "      <td>grass</td>\n",
       "      <td>poison</td>\n",
       "      <td>6.9</td>\n",
       "      <td>1</td>\n",
       "    </tr>\n",
       "    <tr>\n",
       "      <th>1</th>\n",
       "      <td>Ivysaur</td>\n",
       "      <td>405</td>\n",
       "      <td>grass</td>\n",
       "      <td>poison</td>\n",
       "      <td>13.0</td>\n",
       "      <td>1</td>\n",
       "    </tr>\n",
       "    <tr>\n",
       "      <th>2</th>\n",
       "      <td>Venusaur</td>\n",
       "      <td>625</td>\n",
       "      <td>grass</td>\n",
       "      <td>poison</td>\n",
       "      <td>100.0</td>\n",
       "      <td>1</td>\n",
       "    </tr>\n",
       "    <tr>\n",
       "      <th>3</th>\n",
       "      <td>Charmander</td>\n",
       "      <td>309</td>\n",
       "      <td>fire</td>\n",
       "      <td>NaN</td>\n",
       "      <td>8.5</td>\n",
       "      <td>1</td>\n",
       "    </tr>\n",
       "    <tr>\n",
       "      <th>4</th>\n",
       "      <td>Charmeleon</td>\n",
       "      <td>405</td>\n",
       "      <td>fire</td>\n",
       "      <td>NaN</td>\n",
       "      <td>19.0</td>\n",
       "      <td>1</td>\n",
       "    </tr>\n",
       "  </tbody>\n",
       "</table>\n",
       "</div>"
      ],
      "text/plain": [
       "         name  base_total  type1   type2  weight_kg  generation\n",
       "0   Bulbasaur         318  grass  poison        6.9           1\n",
       "1     Ivysaur         405  grass  poison       13.0           1\n",
       "2    Venusaur         625  grass  poison      100.0           1\n",
       "3  Charmander         309   fire     NaN        8.5           1\n",
       "4  Charmeleon         405   fire     NaN       19.0           1"
      ]
     },
     "metadata": {},
     "output_type": "display_data"
    },
    {
     "name": "stdout",
     "output_type": "stream",
     "text": [
      "(801, 6)\n"
     ]
    }
   ],
   "source": [
    "df = pd.read_csv('pokemon.csv')\n",
    "\n",
    "columns= ['name', 'base_total', 'type1', 'type2', 'weight_kg', 'generation']\n",
    "\n",
    "df = df[columns]\n",
    "display(df.head(5))\n",
    "print(df.shape)\n"
   ]
  },
  {
   "cell_type": "markdown",
   "metadata": {
    "id": "vnjkpcOPB8k0"
   },
   "source": [
    "## Part (b)\n",
    "### 2 points\n",
    "\n",
    "All Pokémon have either 1 or 2 types, called \"primary\" (corresponding to `'type1'`) and \"secondary\" (`'type2'`) respectively. As of the most recent games, there are 18 types total. Confirm this value using the column `'type1'`.\n",
    "\n",
    "Then, count how many Pokémon there of each type. This can be easily computed using the `value_counts` method and by knowing that it is not possible for one Pokémon to have the same type for both `type1` and `type2`. Plot a bar plot showing a count for each type with each type listed along the x-axis."
   ]
  },
  {
   "cell_type": "code",
   "execution_count": 4,
   "metadata": {
    "id": "SJ2Pj0PeCKvx"
   },
   "outputs": [
    {
     "name": "stdout",
     "output_type": "stream",
     "text": [
      "18\n"
     ]
    },
    {
     "data": {
      "text/html": [
       "<div>\n",
       "<style scoped>\n",
       "    .dataframe tbody tr th:only-of-type {\n",
       "        vertical-align: middle;\n",
       "    }\n",
       "\n",
       "    .dataframe tbody tr th {\n",
       "        vertical-align: top;\n",
       "    }\n",
       "\n",
       "    .dataframe thead th {\n",
       "        text-align: right;\n",
       "    }\n",
       "</style>\n",
       "<table border=\"1\" class=\"dataframe\">\n",
       "  <thead>\n",
       "    <tr style=\"text-align: right;\">\n",
       "      <th></th>\n",
       "      <th>type1</th>\n",
       "      <th>type2</th>\n",
       "    </tr>\n",
       "  </thead>\n",
       "  <tbody>\n",
       "    <tr>\n",
       "      <th>bug</th>\n",
       "      <td>72</td>\n",
       "      <td>5</td>\n",
       "    </tr>\n",
       "    <tr>\n",
       "      <th>dark</th>\n",
       "      <td>29</td>\n",
       "      <td>21</td>\n",
       "    </tr>\n",
       "    <tr>\n",
       "      <th>dragon</th>\n",
       "      <td>27</td>\n",
       "      <td>17</td>\n",
       "    </tr>\n",
       "    <tr>\n",
       "      <th>electric</th>\n",
       "      <td>39</td>\n",
       "      <td>9</td>\n",
       "    </tr>\n",
       "    <tr>\n",
       "      <th>fairy</th>\n",
       "      <td>18</td>\n",
       "      <td>29</td>\n",
       "    </tr>\n",
       "    <tr>\n",
       "      <th>fighting</th>\n",
       "      <td>28</td>\n",
       "      <td>25</td>\n",
       "    </tr>\n",
       "    <tr>\n",
       "      <th>fire</th>\n",
       "      <td>52</td>\n",
       "      <td>13</td>\n",
       "    </tr>\n",
       "    <tr>\n",
       "      <th>flying</th>\n",
       "      <td>3</td>\n",
       "      <td>95</td>\n",
       "    </tr>\n",
       "    <tr>\n",
       "      <th>ghost</th>\n",
       "      <td>27</td>\n",
       "      <td>14</td>\n",
       "    </tr>\n",
       "    <tr>\n",
       "      <th>grass</th>\n",
       "      <td>78</td>\n",
       "      <td>20</td>\n",
       "    </tr>\n",
       "    <tr>\n",
       "      <th>ground</th>\n",
       "      <td>32</td>\n",
       "      <td>34</td>\n",
       "    </tr>\n",
       "    <tr>\n",
       "      <th>ice</th>\n",
       "      <td>23</td>\n",
       "      <td>15</td>\n",
       "    </tr>\n",
       "    <tr>\n",
       "      <th>normal</th>\n",
       "      <td>105</td>\n",
       "      <td>4</td>\n",
       "    </tr>\n",
       "    <tr>\n",
       "      <th>poison</th>\n",
       "      <td>32</td>\n",
       "      <td>34</td>\n",
       "    </tr>\n",
       "    <tr>\n",
       "      <th>psychic</th>\n",
       "      <td>53</td>\n",
       "      <td>29</td>\n",
       "    </tr>\n",
       "    <tr>\n",
       "      <th>rock</th>\n",
       "      <td>45</td>\n",
       "      <td>14</td>\n",
       "    </tr>\n",
       "    <tr>\n",
       "      <th>steel</th>\n",
       "      <td>24</td>\n",
       "      <td>22</td>\n",
       "    </tr>\n",
       "    <tr>\n",
       "      <th>water</th>\n",
       "      <td>114</td>\n",
       "      <td>17</td>\n",
       "    </tr>\n",
       "  </tbody>\n",
       "</table>\n",
       "</div>"
      ],
      "text/plain": [
       "          type1  type2\n",
       "bug          72      5\n",
       "dark         29     21\n",
       "dragon       27     17\n",
       "electric     39      9\n",
       "fairy        18     29\n",
       "fighting     28     25\n",
       "fire         52     13\n",
       "flying        3     95\n",
       "ghost        27     14\n",
       "grass        78     20\n",
       "ground       32     34\n",
       "ice          23     15\n",
       "normal      105      4\n",
       "poison       32     34\n",
       "psychic      53     29\n",
       "rock         45     14\n",
       "steel        24     22\n",
       "water       114     17"
      ]
     },
     "metadata": {},
     "output_type": "display_data"
    },
    {
     "data": {
      "text/plain": [
       "<AxesSubplot:>"
      ]
     },
     "execution_count": 4,
     "metadata": {},
     "output_type": "execute_result"
    },
    {
     "data": {
      "image/png": "[encoded data removed]",
      "text/plain": [
       "<Figure size 432x288 with 1 Axes>"
      ]
     },
     "metadata": {
      "needs_background": "light"
     },
     "output_type": "display_data"
    }
   ],
   "source": [
    "print(len(df['type1'].unique()))\n",
    "df_types = df[['type1', 'type2']].apply(pd.Series.value_counts)\n",
    "display(df_types)\n",
    "df_types.plot.bar()"
   ]
  },
  {
   "cell_type": "markdown",
   "metadata": {
    "id": "aXPpyxRkC3Bu"
   },
   "source": [
    "## Part (c)\n",
    "### 4 points\n",
    "\n",
    "`'weight_kg'` (unsurprisingly) is the weight in kilograms of a given Pokémon. `'base_total'` is the \"base stat total\" of a Pokémon, which is the sum of its HP, attack, speed, etc. Simply put, the base total is a measure of a Pokémon's overall strength.\n",
    "\n",
    "Plot separate distribution plots for the columns `'weight_kg'` and `'base_total'`, overlaying the estimated distribution (kde) on each histogram. Print the skew value for each column along with its plot.\n",
    "\n",
    "Are these distributions normal? Include your answers as an in-line comment within your code cell(s)."
   ]
  },
  {
   "cell_type": "code",
   "execution_count": 5,
   "metadata": {
    "id": "-wVSuDIZgpC5"
   },
   "outputs": [
    {
     "name": "stdout",
     "output_type": "stream",
     "text": [
      "weight_kg skew:  4.8710444546306055 : skew > 1,  distribution of weight_kg data is not normal\n",
      "base_total skew:  0.1745927583435159 : skew is between -1 and 1, distribution of base_total data is normal\n"
     ]
    },
    {
     "data": {
      "image/png": "[encoded data removed]",
      "text/plain": [
       "<Figure size 360x360 with 1 Axes>"
      ]
     },
     "metadata": {
      "needs_background": "light"
     },
     "output_type": "display_data"
    },
    {
     "data": {
      "image/png": "[encoded data removed]",
      "text/plain": [
       "<Figure size 360x360 with 1 Axes>"
      ]
     },
     "metadata": {
      "needs_background": "light"
     },
     "output_type": "display_data"
    }
   ],
   "source": [
    "\n",
    "sns.displot(df, x=\"weight_kg\", kde= True)\n",
    "print(\"weight_kg skew: \", df.weight_kg.skew(), \": skew > 1,  distribution of weight_kg data is not normal\")\n",
    "sns.displot(df, x= \"base_total\", kde= True)\n",
    "print(\"base_total skew: \", df.base_total.skew(), \": skew is between -1 and 1, distribution of base_total data is normal\")\n",
    "#The dual peaks on the base_total shows a bimodal shape"
   ]
  },
  {
   "cell_type": "markdown",
   "metadata": {
    "id": "24qujI8-zS3g"
   },
   "source": [
    "# Question 2 - z-test\n",
    "\n",
    "This question will use the `'base_total'` column as the data of interest and the Pokémon from Generation I as the sample set. While z-tests can easily be automated, here we will walk through the process to get a better feel for what's happening \"behind the scenes\"."
   ]
  },
  {
   "cell_type": "markdown",
   "metadata": {
    "id": "h_x1Pp1K_h40"
   },
   "source": [
    "## Part (a)\n",
    "### 2 points\n",
    "\n",
    "Suppose your friend likes Pokémon but is only familiar with the original 151 from generation 1. They didn't realize that many more games have come out since the first ones and are curious if the overall base totals have changed much with the newer generations. The Pokémon from generation 1 will be our sample.\n",
    "\n",
    "For this example, we know the population mean and standard deviation. In realistic settings, these are given from outside sources, but in our case we can calculate them from the dataset of all Pokémon. Compute and print these values.\n",
    "\n",
    "After determining the population mean (and standard deviation), state the null and alternative hypotheses in a text cell or as an in-line comment."
   ]
  },
  {
   "cell_type": "code",
   "execution_count": 6,
   "metadata": {
    "id": "b0rCjhccV-w-"
   },
   "outputs": [
    {
     "name": "stdout",
     "output_type": "stream",
     "text": [
      "428.3770287141074\n",
      "119.20357658921323\n"
     ]
    }
   ],
   "source": [
    "print(df['base_total'].mean())\n",
    "print(df['base_total'].std())\n",
    "\n",
    "#null hypothesis:\n",
    "# The observed average of the sample base_total reflects the average of the entire pokemon population base_total. \n",
    "\n",
    "#alternative hypothesis:\n",
    "# There is a significant difference in the observed average of the base_total sample from the entire \n",
    "#pokemon population base_total. "
   ]
  },
  {
   "cell_type": "markdown",
   "metadata": {
    "id": "lvicd9smFpa4"
   },
   "source": [
    "## Part (b)\n",
    "### 2 points\n",
    "\n",
    "As a separate data frame, extract the Pokémon that are from generation 1 to use as our sample. Call this variable `gen1`. Confirm that the last Pokémon included in the sample is the 151st (index 150) by printing the tail of `gen1`.\n",
    "\n",
    "Calculate and print the standard error of the sampling distribution of the mean following the formula given in class:\n",
    "$$\n",
    "\\sigma_{\\bar{X}} = \\frac{\\sigma}{\\sqrt{n}}\n",
    "$$"
   ]
  },
  {
   "cell_type": "code",
   "execution_count": 7,
   "metadata": {
    "id": "IMujcizUiWkR"
   },
   "outputs": [
    {
     "data": {
      "text/html": [
       "<div>\n",
       "<style scoped>\n",
       "    .dataframe tbody tr th:only-of-type {\n",
       "        vertical-align: middle;\n",
       "    }\n",
       "\n",
       "    .dataframe tbody tr th {\n",
       "        vertical-align: top;\n",
       "    }\n",
       "\n",
       "    .dataframe thead th {\n",
       "        text-align: right;\n",
       "    }\n",
       "</style>\n",
       "<table border=\"1\" class=\"dataframe\">\n",
       "  <thead>\n",
       "    <tr style=\"text-align: right;\">\n",
       "      <th></th>\n",
       "      <th>name</th>\n",
       "      <th>base_total</th>\n",
       "      <th>type1</th>\n",
       "      <th>type2</th>\n",
       "      <th>weight_kg</th>\n",
       "      <th>generation</th>\n",
       "    </tr>\n",
       "  </thead>\n",
       "  <tbody>\n",
       "    <tr>\n",
       "      <th>146</th>\n",
       "      <td>Dratini</td>\n",
       "      <td>300</td>\n",
       "      <td>dragon</td>\n",
       "      <td>NaN</td>\n",
       "      <td>3.3</td>\n",
       "      <td>1</td>\n",
       "    </tr>\n",
       "    <tr>\n",
       "      <th>147</th>\n",
       "      <td>Dragonair</td>\n",
       "      <td>420</td>\n",
       "      <td>dragon</td>\n",
       "      <td>NaN</td>\n",
       "      <td>16.5</td>\n",
       "      <td>1</td>\n",
       "    </tr>\n",
       "    <tr>\n",
       "      <th>148</th>\n",
       "      <td>Dragonite</td>\n",
       "      <td>600</td>\n",
       "      <td>dragon</td>\n",
       "      <td>flying</td>\n",
       "      <td>210.0</td>\n",
       "      <td>1</td>\n",
       "    </tr>\n",
       "    <tr>\n",
       "      <th>149</th>\n",
       "      <td>Mewtwo</td>\n",
       "      <td>780</td>\n",
       "      <td>psychic</td>\n",
       "      <td>NaN</td>\n",
       "      <td>122.0</td>\n",
       "      <td>1</td>\n",
       "    </tr>\n",
       "    <tr>\n",
       "      <th>150</th>\n",
       "      <td>Mew</td>\n",
       "      <td>600</td>\n",
       "      <td>psychic</td>\n",
       "      <td>NaN</td>\n",
       "      <td>4.0</td>\n",
       "      <td>1</td>\n",
       "    </tr>\n",
       "  </tbody>\n",
       "</table>\n",
       "</div>"
      ],
      "text/plain": [
       "          name  base_total    type1   type2  weight_kg  generation\n",
       "146    Dratini         300   dragon     NaN        3.3           1\n",
       "147  Dragonair         420   dragon     NaN       16.5           1\n",
       "148  Dragonite         600   dragon  flying      210.0           1\n",
       "149     Mewtwo         780  psychic     NaN      122.0           1\n",
       "150        Mew         600  psychic     NaN        4.0           1"
      ]
     },
     "metadata": {},
     "output_type": "display_data"
    },
    {
     "name": "stdout",
     "output_type": "stream",
     "text": [
      "9.70064948725457\n"
     ]
    }
   ],
   "source": [
    "gen1 = df[(df['generation'] == 1)]\n",
    "display(gen1.tail(5))\n",
    "\n",
    "std_error = (df['base_total'].std())/(len(gen1['base_total'])**(1/2))\n",
    "print(std_error)\n"
   ]
  },
  {
   "cell_type": "markdown",
   "metadata": {
    "id": "qE79EAffN0aa"
   },
   "source": [
    "## Part (c)\n",
    "### 3 points\n",
    "\n",
    "To demonstrate the properties of the z-distribution, create a Series that is the `'base_total'` column converted into z-scores using the formula:\n",
    "$$\n",
    "z = \\frac{x-\\mu}{\\sigma}\n",
    "$$\n",
    "for each value $x$ in the column. Plot this distribution to visually confirm the mean is around 0 and the standard deviation is around 1.\n",
    "\n",
    "Compute and output the \"observed z\", which is the sample mean converted into a z-score.\n",
    "$$\n",
    "z_{observed} = \\frac{\\bar{X} - \\mu}{\\sigma_{\\bar{X}}}\n",
    "$$"
   ]
  },
  {
   "cell_type": "code",
   "execution_count": 8,
   "metadata": {
    "id": "hubGpW7Hzdes"
   },
   "outputs": [
    {
     "name": "stdout",
     "output_type": "stream",
     "text": [
      "-1.2499547685852919\n"
     ]
    },
    {
     "data": {
      "image/png": "[encoded data removed]",
      "text/plain": [
       "<Figure size 360x360 with 1 Axes>"
      ]
     },
     "metadata": {
      "needs_background": "light"
     },
     "output_type": "display_data"
    }
   ],
   "source": [
    "df['base_total_z'] = (df['base_total'] - df['base_total'].mean())/df['base_total'].std(ddof=0)\n",
    "sns.displot(df, x= \"base_total_z\", kde= True)\n",
    "\n",
    "observed_z = (gen1['base_total'].mean()- df['base_total'].mean())/std_error\n",
    "print(observed_z)"
   ]
  },
  {
   "cell_type": "markdown",
   "metadata": {
    "id": "Rmkh32ZuOw3H"
   },
   "source": [
    "## Part (d)\n",
    "### 2 points\n",
    "\n",
    "Using a confidence level of $\\alpha=0.05$ and corresponding critical values of $\\pm1.96$, determine if the null hypothesis should be rejected or retained. State a conclusion regarding base totals of all Pokémon based on this decision rule."
   ]
  },
  {
   "cell_type": "markdown",
   "metadata": {
    "id": "meHGT745PQPW"
   },
   "source": [
    "The null hypothesis should be retained because there is not strong enough evidence to reject the null hypothsis.  The conclusions is that The observed average of the sample base_total reflects the average of the entire pokemon population base_total. "
   ]
  },
  {
   "cell_type": "markdown",
   "metadata": {
    "id": "9No5ikg7PScy"
   },
   "source": [
    "# Question 3 - t-test\n",
    "\n",
    "Base totals again are the data of interest, but now with two independent samples of mostly male Pokémon from generation 1 and mostly female Pokémon from generation 1."
   ]
  },
  {
   "cell_type": "markdown",
   "metadata": {
    "id": "zvi_UTWFPVTr"
   },
   "source": [
    "## Part (a)\n",
    "### 3 points\n",
    "\n",
    "As an example of a two-sample t-test, let's suppose we are interested in seeing if there is any bias coming from the designers of the games regarding the base totals for Pokémon that are more likely to be male and those that are more likely to be female (the intuition being that the base totals for mostly female Pokémon are perhaps lower than those of mostly males). The two-sample t-test will determine if the mean base totals between these two groups significantly differ.\n",
    "\n",
    "Start by extracting the Pokémon from `gen1` whose `'percentage_male'` is strictly greater than 50 in a separate data frame. Do the same for mostly female Pokémon whose `'percentage_male'` is strictly less than 50. *Note that we are excluding Pokémon whose `'percentage_male'` is equal to 50.*\n",
    "\n",
    "Confirm the normality of these two group's `'base_total'` values using distribution plots and skewness value as before."
   ]
  },
  {
   "cell_type": "code",
   "execution_count": 9,
   "metadata": {
    "id": "9T-SC7OgXNvv"
   },
   "outputs": [
    {
     "data": {
      "text/html": [
       "<div>\n",
       "<style scoped>\n",
       "    .dataframe tbody tr th:only-of-type {\n",
       "        vertical-align: middle;\n",
       "    }\n",
       "\n",
       "    .dataframe tbody tr th {\n",
       "        vertical-align: top;\n",
       "    }\n",
       "\n",
       "    .dataframe thead th {\n",
       "        text-align: right;\n",
       "    }\n",
       "</style>\n",
       "<table border=\"1\" class=\"dataframe\">\n",
       "  <thead>\n",
       "    <tr style=\"text-align: right;\">\n",
       "      <th></th>\n",
       "      <th>name</th>\n",
       "      <th>base_total</th>\n",
       "      <th>type1</th>\n",
       "      <th>type2</th>\n",
       "      <th>weight_kg</th>\n",
       "      <th>generation</th>\n",
       "      <th>percentage_male</th>\n",
       "    </tr>\n",
       "  </thead>\n",
       "  <tbody>\n",
       "    <tr>\n",
       "      <th>0</th>\n",
       "      <td>Bulbasaur</td>\n",
       "      <td>318</td>\n",
       "      <td>grass</td>\n",
       "      <td>poison</td>\n",
       "      <td>6.9</td>\n",
       "      <td>1</td>\n",
       "      <td>88.1</td>\n",
       "    </tr>\n",
       "    <tr>\n",
       "      <th>1</th>\n",
       "      <td>Ivysaur</td>\n",
       "      <td>405</td>\n",
       "      <td>grass</td>\n",
       "      <td>poison</td>\n",
       "      <td>13.0</td>\n",
       "      <td>1</td>\n",
       "      <td>88.1</td>\n",
       "    </tr>\n",
       "    <tr>\n",
       "      <th>2</th>\n",
       "      <td>Venusaur</td>\n",
       "      <td>625</td>\n",
       "      <td>grass</td>\n",
       "      <td>poison</td>\n",
       "      <td>100.0</td>\n",
       "      <td>1</td>\n",
       "      <td>88.1</td>\n",
       "    </tr>\n",
       "    <tr>\n",
       "      <th>3</th>\n",
       "      <td>Charmander</td>\n",
       "      <td>309</td>\n",
       "      <td>fire</td>\n",
       "      <td>NaN</td>\n",
       "      <td>8.5</td>\n",
       "      <td>1</td>\n",
       "      <td>88.1</td>\n",
       "    </tr>\n",
       "    <tr>\n",
       "      <th>4</th>\n",
       "      <td>Charmeleon</td>\n",
       "      <td>405</td>\n",
       "      <td>fire</td>\n",
       "      <td>NaN</td>\n",
       "      <td>19.0</td>\n",
       "      <td>1</td>\n",
       "      <td>88.1</td>\n",
       "    </tr>\n",
       "  </tbody>\n",
       "</table>\n",
       "</div>"
      ],
      "text/plain": [
       "         name  base_total  type1   type2  weight_kg  generation  \\\n",
       "0   Bulbasaur         318  grass  poison        6.9           1   \n",
       "1     Ivysaur         405  grass  poison       13.0           1   \n",
       "2    Venusaur         625  grass  poison      100.0           1   \n",
       "3  Charmander         309   fire     NaN        8.5           1   \n",
       "4  Charmeleon         405   fire     NaN       19.0           1   \n",
       "\n",
       "   percentage_male  \n",
       "0             88.1  \n",
       "1             88.1  \n",
       "2             88.1  \n",
       "3             88.1  \n",
       "4             88.1  "
      ]
     },
     "metadata": {},
     "output_type": "display_data"
    },
    {
     "data": {
      "text/html": [
       "<div>\n",
       "<style scoped>\n",
       "    .dataframe tbody tr th:only-of-type {\n",
       "        vertical-align: middle;\n",
       "    }\n",
       "\n",
       "    .dataframe tbody tr th {\n",
       "        vertical-align: top;\n",
       "    }\n",
       "\n",
       "    .dataframe thead th {\n",
       "        text-align: right;\n",
       "    }\n",
       "</style>\n",
       "<table border=\"1\" class=\"dataframe\">\n",
       "  <thead>\n",
       "    <tr style=\"text-align: right;\">\n",
       "      <th></th>\n",
       "      <th>name</th>\n",
       "      <th>base_total</th>\n",
       "      <th>type1</th>\n",
       "      <th>type2</th>\n",
       "      <th>weight_kg</th>\n",
       "      <th>generation</th>\n",
       "      <th>percentage_male</th>\n",
       "    </tr>\n",
       "  </thead>\n",
       "  <tbody>\n",
       "    <tr>\n",
       "      <th>28</th>\n",
       "      <td>Nidoran♀</td>\n",
       "      <td>275</td>\n",
       "      <td>poison</td>\n",
       "      <td>NaN</td>\n",
       "      <td>7.0</td>\n",
       "      <td>1</td>\n",
       "      <td>0.0</td>\n",
       "    </tr>\n",
       "    <tr>\n",
       "      <th>29</th>\n",
       "      <td>Nidorina</td>\n",
       "      <td>365</td>\n",
       "      <td>poison</td>\n",
       "      <td>NaN</td>\n",
       "      <td>20.0</td>\n",
       "      <td>1</td>\n",
       "      <td>0.0</td>\n",
       "    </tr>\n",
       "    <tr>\n",
       "      <th>30</th>\n",
       "      <td>Nidoqueen</td>\n",
       "      <td>505</td>\n",
       "      <td>poison</td>\n",
       "      <td>ground</td>\n",
       "      <td>60.0</td>\n",
       "      <td>1</td>\n",
       "      <td>0.0</td>\n",
       "    </tr>\n",
       "    <tr>\n",
       "      <th>34</th>\n",
       "      <td>Clefairy</td>\n",
       "      <td>323</td>\n",
       "      <td>fairy</td>\n",
       "      <td>NaN</td>\n",
       "      <td>7.5</td>\n",
       "      <td>1</td>\n",
       "      <td>24.6</td>\n",
       "    </tr>\n",
       "    <tr>\n",
       "      <th>35</th>\n",
       "      <td>Clefable</td>\n",
       "      <td>483</td>\n",
       "      <td>fairy</td>\n",
       "      <td>NaN</td>\n",
       "      <td>40.0</td>\n",
       "      <td>1</td>\n",
       "      <td>24.6</td>\n",
       "    </tr>\n",
       "  </tbody>\n",
       "</table>\n",
       "</div>"
      ],
      "text/plain": [
       "         name  base_total   type1   type2  weight_kg  generation  \\\n",
       "28   Nidoran♀         275  poison     NaN        7.0           1   \n",
       "29   Nidorina         365  poison     NaN       20.0           1   \n",
       "30  Nidoqueen         505  poison  ground       60.0           1   \n",
       "34   Clefairy         323   fairy     NaN        7.5           1   \n",
       "35   Clefable         483   fairy     NaN       40.0           1   \n",
       "\n",
       "    percentage_male  \n",
       "28              0.0  \n",
       "29              0.0  \n",
       "30              0.0  \n",
       "34             24.6  \n",
       "35             24.6  "
      ]
     },
     "metadata": {},
     "output_type": "display_data"
    },
    {
     "name": "stdout",
     "output_type": "stream",
     "text": [
      "male base_total skew:  0.1073057362993733 : skew is between -1 and 1, distribution is normal\n",
      "female base_total skew:  -0.02523749124096716 : skew is between -1 and 1, distribution is normal\n"
     ]
    },
    {
     "data": {
      "image/png": "[encoded data removed]",
      "text/plain": [
       "<Figure size 360x360 with 1 Axes>"
      ]
     },
     "metadata": {
      "needs_background": "light"
     },
     "output_type": "display_data"
    },
    {
     "data": {
      "image/png": "[encoded data removed]",
      "text/plain": [
       "<Figure size 360x360 with 1 Axes>"
      ]
     },
     "metadata": {
      "needs_background": "light"
     },
     "output_type": "display_data"
    }
   ],
   "source": [
    "df2 = pd.read_csv('pokemon.csv')\n",
    "\n",
    "columns2= ['name', 'base_total', 'type1', 'type2', 'weight_kg', 'generation', 'percentage_male']\n",
    "\n",
    "df2 = df2[columns2]\n",
    "\n",
    "gen1_male= df2[(df2['generation'] == 1) & (df2['percentage_male'] >50)]\n",
    "display(gen1_male.head(5))\n",
    "\n",
    "gen1_female= df2[(df2['generation'] == 1) & (df2['percentage_male'] <50)]\n",
    "display(gen1_female.head(5))\n",
    "\n",
    "sns.displot(gen1_male, x= \"base_total\", bins= 12, kde= True).set(title='Distribution of Gen 1 Male Pokemon Base Totals')\n",
    "sns.displot(gen1_female, x= \"base_total\", bins= 12, kde= True).set(title='Distribution of Gen 1 Female Pokemon Base Totals')\n",
    "print(\"male base_total skew: \", gen1_male.base_total.skew(), \": skew is between -1 and 1, distribution is normal\")\n",
    "print(\"female base_total skew: \", gen1_female.base_total.skew(), \": skew is between -1 and 1, distribution is normal\")"
   ]
  },
  {
   "cell_type": "markdown",
   "metadata": {
    "id": "Ag2WQeV0L_Tb"
   },
   "source": [
    "## Part (b)\n",
    "### 2 points\n",
    "\n",
    "Generally the t-test requires an assumption that the variance between the two independent groups is roughly equal (called \"homogeneity of variance\"). The t-test method given by `stats` can actually account for when the variance is unequal as well. Regardless, we need to know which is the case for our data, so let's check using the Levene test. Again, we're interested in the `'base_total'` values of each group - mostly male and mostly female."
   ]
  },
  {
   "cell_type": "code",
   "execution_count": 11,
   "metadata": {
    "id": "IatxSJL-TD9b"
   },
   "outputs": [
    {
     "name": "stdout",
     "output_type": "stream",
     "text": [
      "Retain H0 - variance is roughly equal\n",
      "alpha: 0.05\n",
      "p-value: 0.7408294278242322\n",
      "test stat: 0.1107570254698387\n"
     ]
    }
   ],
   "source": [
    "from scipy import stats\n",
    "test_stat, p_value = stats.levene(gen1_male['base_total'], gen1_female['base_total'])\n",
    "alpha = 0.05\n",
    "\n",
    "if p_value > alpha:\n",
    "    print(\"Retain H0 - variance is roughly equal\")\n",
    "else:\n",
    "    print(\"Reject H0 - variance is not equal\")\n",
    "\n",
    "print(f\"alpha: {alpha}\")\n",
    "print(f\"p-value: {p_value}\")  # if p-value is not less than 0.05 then we cannot reject null hypothesis that variance is the same\n",
    "print(f\"test stat: {test_stat}\")"
   ]
  },
  {
   "cell_type": "markdown",
   "metadata": {
    "id": "_nwRe0oBMav4"
   },
   "source": [
    "## Part (c)\n",
    "### 3 points\n",
    "\n",
    "Now that we know what to set the `equal_var` parameter to (either `True` or `False`), perform the t-test for two independent samples. Use the resulting p-value and an alpha of 0.05 to determine if the null hypothesis can be rejected or not. State your conclusion either as an in-line comment with your t-test code or as a separate text cell."
   ]
  },
  {
   "cell_type": "code",
   "execution_count": 12,
   "metadata": {
    "id": "9diMYT9IKacb"
   },
   "outputs": [
    {
     "data": {
      "text/plain": [
       "Ttest_indResult(statistic=1.050915461492849, pvalue=0.2989084640467425)"
      ]
     },
     "execution_count": 12,
     "metadata": {},
     "output_type": "execute_result"
    }
   ],
   "source": [
    "stats.ttest_ind(gen1_male['base_total'], gen1_female['base_total'], equal_var=True)\n",
    "\n",
    "#Conclusion: Based on the p-value of 0.29, we fail to reject the null hypothesis and \n",
    "#conclude that the average base total of male and female Pokemon do not significantly differ. \n"
   ]
  },
  {
   "cell_type": "markdown",
   "metadata": {
    "id": "ABeiBOQjWhps"
   },
   "source": [
    "# Question 4 - ANOVA\n",
    "\n",
    "Again we use base totals, but with three independent subsets of the population: Pokémon from generations 1, 2, and 3."
   ]
  },
  {
   "cell_type": "markdown",
   "metadata": {
    "id": "HtfeS1GDO200"
   },
   "source": [
    "## Part (a)\n",
    "### 3 points\n",
    "\n",
    "Suppose another friend of yours was super into Pokémon for a while, playing the first three generations of the games for hours on end when they were a kid. They are curious if the base totals of Pokémon between generations stays relatively the same, or if there are perhaps generations that are \"overpowered\". To test this, we can use ANOVA.\n",
    "\n",
    "Start by extracting the Pokémon from generations 2 and 3 into variables called `gen2` and `gen3`, just as we did earlier with `gen1`.\n",
    "\n",
    "Plot all three generations on the same distribution plot using their generation value to adjust the color of the plot. This can be easily achieved by creating a combined data frame with all three generations appended one after the other (`gen1` appended with `gen2` appended with `gen3`). You can then use Seaborn's `displot` method to plot histograms of all three generations with `hue` set accordingly. Set the `multiple` parameter to `'dodge'` to make each bar sit side-by-side with the others."
   ]
  },
  {
   "cell_type": "code",
   "execution_count": 13,
   "metadata": {
    "id": "KFvXQBhPNP25"
   },
   "outputs": [
    {
     "data": {
      "text/plain": [
       "<seaborn.axisgrid.FacetGrid at 0x1b102164f40>"
      ]
     },
     "execution_count": 13,
     "metadata": {},
     "output_type": "execute_result"
    },
    {
     "data": {
      "image/png": "[encoded data removed]",
      "text/plain": [
       "<Figure size 422.375x360 with 1 Axes>"
      ]
     },
     "metadata": {
      "needs_background": "light"
     },
     "output_type": "display_data"
    }
   ],
   "source": [
    "gen2 = df[(df['generation'] == 2)]\n",
    "gen3 = df[(df['generation'] == 3)]\n",
    "\n",
    "gen_1to3= pd.concat([gen1, gen2, gen3])\n",
    "sns.displot(gen_1to3, x= \"base_total\", hue= \"generation\", kde= True, multiple= 'dodge', palette= \"Set1\").set(title='Distribution of Gen 1, Gen 2, and Gen 3 Pokemon Base Totals')\n"
   ]
  },
  {
   "cell_type": "markdown",
   "metadata": {
    "id": "sTnihAGAQgIv"
   },
   "source": [
    "## Part (b)\n",
    "### 2 points\n",
    "\n",
    "As we did for t-tests, test for equal variance among the three samples. For ANOVA, this ultimately is of little consequence since the F-test is robust to violation of the homogeneity of variance, but it's worth checking nonetheless. "
   ]
  },
  {
   "cell_type": "code",
   "execution_count": 14,
   "metadata": {
    "id": "mOZcW3H0OBWg"
   },
   "outputs": [
    {
     "name": "stdout",
     "output_type": "stream",
     "text": [
      "Retain H0 - variance is roughly equal\n",
      "alpha: 0.05\n",
      "p-value: 0.1404649672280984\n",
      "test stat: 1.9728905563651231\n"
     ]
    }
   ],
   "source": [
    "test_stat, p_value = stats.levene(gen1['base_total'], gen2['base_total'], gen3['base_total'])\n",
    "alpha = 0.05\n",
    "\n",
    "if p_value > alpha:\n",
    "    print(\"Retain H0 - variance is roughly equal\")\n",
    "else:\n",
    "    print(\"Reject H0 - variance is not equal\")\n",
    "\n",
    "print(f\"alpha: {alpha}\")\n",
    "print(f\"p-value: {p_value}\")\n",
    "print(f\"test stat: {test_stat}\")"
   ]
  },
  {
   "cell_type": "markdown",
   "metadata": {
    "id": "2wc3NmLOQtOX"
   },
   "source": [
    "## Part (c)\n",
    "### 3 points\n",
    "\n",
    "Perform the ANOVA test on the base totals of generations 1, 2, and 3. Given an alpha of 0.05, include your conclusion as an in-line comment in your code or as a separate text cell."
   ]
  },
  {
   "cell_type": "code",
   "execution_count": 15,
   "metadata": {
    "id": "OtLrgaHdOrr8"
   },
   "outputs": [
    {
     "data": {
      "text/plain": [
       "F_onewayResult(statistic=0.09048015905055794, pvalue=0.913511978321936)"
      ]
     },
     "execution_count": 15,
     "metadata": {},
     "output_type": "execute_result"
    }
   ],
   "source": [
    "stats.f_oneway(gen1['base_total'], gen2['base_total'], gen3['base_total'])\n",
    "\n",
    "#conclusion: we cannot reject the null hypothesis because of the resulting p-value\n",
    "# (0.91).  The F statistic is less than 1, which means there is not a significant difference between the means. "
   ]
  },
  {
   "cell_type": "code",
   "execution_count": null,
   "metadata": {},
   "outputs": [],
   "source": []
  }
 ],
 "metadata": {
  "colab": {
   "authorship_tag": "ABX9TyO+OSqb7JT5rIX0eBm+Ds1e",
   "collapsed_sections": [],
   "name": "Assignment 6 - Inferential Statistics.ipynb",
   "provenance": [],
   "toc_visible": true
  },
  "kernelspec": {
   "display_name": "Python 3 (ipykernel)",
   "language": "python",
   "name": "python3"
  },
  "language_info": {
   "codemirror_mode": {
    "name": "ipython",
    "version": 3
   },
   "file_extension": ".py",
   "mimetype": "text/x-python",
   "name": "python",
   "nbconvert_exporter": "python",
   "pygments_lexer": "ipython3",
   "version": "3.8.2"
  }
 },
 "nbformat": 4,
 "nbformat_minor": 1
}
